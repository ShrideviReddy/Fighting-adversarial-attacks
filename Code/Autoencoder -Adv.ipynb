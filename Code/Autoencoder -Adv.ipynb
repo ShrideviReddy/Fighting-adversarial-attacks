{
  "nbformat": 4,
  "nbformat_minor": 0,
  "metadata": {
    "colab": {
      "name": "Autoencoder.ipynb",
      "provenance": [],
      "collapsed_sections": []
    },
    "kernelspec": {
      "name": "python3",
      "display_name": "Python 3"
    }
  },
  "cells": [
    {
      "cell_type": "markdown",
      "metadata": {
        "id": "3bIar5CQL53x",
        "colab_type": "text"
      },
      "source": [
        "# Auto-Encoder"
      ]
    },
    {
      "cell_type": "code",
      "metadata": {
        "id": "WRya1NUWeaMf",
        "colab_type": "code",
        "colab": {
          "base_uri": "https://localhost:8080/",
          "height": 34
        },
        "outputId": "e0b72fc2-52bc-4817-d245-a73f7f28774d"
      },
      "source": [
        "import tensorflow as tf\n",
        "print(tf.__version__) "
      ],
      "execution_count": null,
      "outputs": [
        {
          "output_type": "stream",
          "text": [
            "2.0.0\n"
          ],
          "name": "stdout"
        }
      ]
    },
    {
      "cell_type": "code",
      "metadata": {
        "id": "ARgoXkt4fNVb",
        "colab_type": "code",
        "colab": {}
      },
      "source": [
        "import tensorflow as tf\n",
        "\n",
        "from tensorflow.keras.datasets import mnist, cifar10, cifar100\n",
        "\n",
        "from tensorflow.keras import Sequential\n",
        "from tensorflow.keras.callbacks import LambdaCallback\n",
        "from tensorflow.keras.layers import Conv2D, MaxPooling2D, Dropout, Dense, Flatten, Activation\n",
        "\n",
        "import numpy as np\n",
        "import random\n",
        "\n",
        "import matplotlib.pyplot as plt"
      ],
      "execution_count": null,
      "outputs": []
    },
    {
      "cell_type": "code",
      "metadata": {
        "id": "PS1LjDM2Lrlj",
        "colab_type": "code",
        "colab": {
          "base_uri": "https://localhost:8080/",
          "height": 34
        },
        "outputId": "6cd5e1e8-a271-4c4c-ad8f-5b60c93d216c"
      },
      "source": [
        "from keras.layers import Input, Dense, Conv2D, MaxPooling2D, UpSampling2D\n",
        "from keras.models import Model\n",
        "from keras import backend as K\n",
        "\n",
        "input_img = Input(shape=(28, 28, 1))  # adapt this if using `channels_first` image data format\n",
        "\n",
        "x = Conv2D(16, (3, 3), activation='relu', padding='same')(input_img)\n",
        "x = MaxPooling2D((2, 2), padding='same')(x)\n",
        "x = Conv2D(8, (3, 3), activation='relu', padding='same')(x)\n",
        "x = MaxPooling2D((2, 2), padding='same')(x)\n",
        "x = Conv2D(8, (3, 3), activation='relu', padding='same')(x)\n",
        "encoded = MaxPooling2D((2, 2), padding='same')(x)\n",
        "\n",
        "# at this point the representation is (4, 4, 8) i.e. 128-dimensional\n",
        "\n",
        "x = Conv2D(8, (3, 3), activation='relu', padding='same')(encoded)\n",
        "x = UpSampling2D((2, 2))(x)\n",
        "x = Conv2D(8, (3, 3), activation='relu', padding='same')(x)\n",
        "x = UpSampling2D((2, 2))(x)\n",
        "x = Conv2D(16, (3, 3), activation='relu')(x)\n",
        "x = UpSampling2D((2, 2))(x)\n",
        "decoded = Conv2D(1, (3, 3), activation='sigmoid', padding='same')(x)\n",
        "\n",
        "autoencoder = Model(input_img, decoded)\n",
        "autoencoder.compile(optimizer='adadelta', loss='binary_crossentropy')"
      ],
      "execution_count": null,
      "outputs": [
        {
          "output_type": "stream",
          "text": [
            "Using TensorFlow backend.\n"
          ],
          "name": "stderr"
        }
      ]
    },
    {
      "cell_type": "markdown",
      "metadata": {
        "id": "Cb2jjsS1MBbu",
        "colab_type": "text"
      },
      "source": [
        "# New Section"
      ]
    },
    {
      "cell_type": "code",
      "metadata": {
        "id": "VWgC8uTlnMWg",
        "colab_type": "code",
        "colab": {
          "base_uri": "https://localhost:8080/",
          "height": 51
        },
        "outputId": "c3af4c08-b10d-4fcd-f4fd-e6c1998605cc"
      },
      "source": [
        "from keras.datasets import mnist\n",
        "import tensorflow as tf\n",
        "import numpy as np\n",
        "\n",
        "(x_train, y_train), (x_test, y_test) = mnist.load_data()\n",
        "\n",
        "x_train = x_train.astype('float32') / 255.\n",
        "x_test = x_test.astype('float32') / 255.\n",
        "x_train = np.reshape(x_train, (len(x_train), 28, 28, 1))  # adapt this if using `channels_first` image data format\n",
        "x_test = np.reshape(x_test, (len(x_test), 28, 28, 1))  # adapt this if using `channels_first` image data format"
      ],
      "execution_count": null,
      "outputs": [
        {
          "output_type": "stream",
          "text": [
            "Downloading data from https://s3.amazonaws.com/img-datasets/mnist.npz\n",
            "11493376/11490434 [==============================] - 0s 0us/step\n"
          ],
          "name": "stdout"
        }
      ]
    },
    {
      "cell_type": "code",
      "metadata": {
        "id": "LBRtE5p4feD7",
        "colab_type": "code",
        "colab": {}
      },
      "source": [
        "labels = ['zero', 'one', 'two', 'three', 'four', 'five', 'six', 'seven', 'eight', 'nine']\n",
        "img_rows, img_cols, channels = 28, 28, 1\n",
        "num_classes = 10\n",
        "\n",
        "y_train = tf.keras.utils.to_categorical(y_train, num_classes)\n",
        "y_test = tf.keras.utils.to_categorical(y_test, num_classes)\n"
      ],
      "execution_count": null,
      "outputs": []
    },
    {
      "cell_type": "markdown",
      "metadata": {
        "id": "ucjhJMQpMNp5",
        "colab_type": "text"
      },
      "source": [
        "# Creating noisy data-set"
      ]
    },
    {
      "cell_type": "code",
      "metadata": {
        "id": "aKfnAwTF66j4",
        "colab_type": "code",
        "colab": {}
      },
      "source": [
        "noise_factor = 0.5\n",
        "x_train_noisy = x_train + noise_factor * np.random.normal(loc=0.0, scale=1.0, size=x_train.shape) \n",
        "x_test_noisy = x_test + noise_factor * np.random.normal(loc=0.0, scale=1.0, size=x_test.shape) \n",
        "\n",
        "x_train_noisy = np.clip(x_train_noisy, 0., 1.)\n",
        "x_test_noisy = np.clip(x_test_noisy, 0., 1.)"
      ],
      "execution_count": null,
      "outputs": []
    },
    {
      "cell_type": "markdown",
      "metadata": {
        "id": "wAKoJtC8MVB9",
        "colab_type": "text"
      },
      "source": [
        "# Training auto-enocder"
      ]
    },
    {
      "cell_type": "code",
      "metadata": {
        "id": "AHTLxY92nPk9",
        "colab_type": "code",
        "colab": {
          "base_uri": "https://localhost:8080/",
          "height": 884
        },
        "outputId": "1e08062b-4ce4-4e0e-c34e-ded6d8341c48"
      },
      "source": [
        "\n",
        "history = autoencoder.fit(x_train_noisy, x_train,\n",
        "                epochs=25,\n",
        "                batch_size=128,\n",
        "                shuffle=True,\n",
        "                validation_data=(x_test_noisy, x_test))"
      ],
      "execution_count": null,
      "outputs": [
        {
          "output_type": "stream",
          "text": [
            "Train on 60000 samples, validate on 10000 samples\n",
            "Epoch 1/25\n",
            "60000/60000 [==============================] - 83s 1ms/step - loss: 0.2397 - val_loss: 0.1929\n",
            "Epoch 2/25\n",
            "60000/60000 [==============================] - 83s 1ms/step - loss: 0.1766 - val_loss: 0.1661\n",
            "Epoch 3/25\n",
            "60000/60000 [==============================] - 82s 1ms/step - loss: 0.1621 - val_loss: 0.1544\n",
            "Epoch 4/25\n",
            "60000/60000 [==============================] - 82s 1ms/step - loss: 0.1550 - val_loss: 0.1510\n",
            "Epoch 5/25\n",
            "60000/60000 [==============================] - 83s 1ms/step - loss: 0.1501 - val_loss: 0.1487\n",
            "Epoch 6/25\n",
            "60000/60000 [==============================] - 84s 1ms/step - loss: 0.1466 - val_loss: 0.1425\n",
            "Epoch 7/25\n",
            "60000/60000 [==============================] - 83s 1ms/step - loss: 0.1437 - val_loss: 0.1438\n",
            "Epoch 8/25\n",
            "60000/60000 [==============================] - 82s 1ms/step - loss: 0.1416 - val_loss: 0.1388\n",
            "Epoch 9/25\n",
            "60000/60000 [==============================] - 83s 1ms/step - loss: 0.1400 - val_loss: 0.1369\n",
            "Epoch 10/25\n",
            "60000/60000 [==============================] - 83s 1ms/step - loss: 0.1384 - val_loss: 0.1345\n",
            "Epoch 11/25\n",
            "60000/60000 [==============================] - 82s 1ms/step - loss: 0.1369 - val_loss: 0.1361\n",
            "Epoch 12/25\n",
            "60000/60000 [==============================] - 82s 1ms/step - loss: 0.1355 - val_loss: 0.1338\n",
            "Epoch 13/25\n",
            "60000/60000 [==============================] - 82s 1ms/step - loss: 0.1347 - val_loss: 0.1326\n",
            "Epoch 14/25\n",
            "60000/60000 [==============================] - 82s 1ms/step - loss: 0.1337 - val_loss: 0.1320\n",
            "Epoch 15/25\n",
            "60000/60000 [==============================] - 82s 1ms/step - loss: 0.1334 - val_loss: 0.1358\n",
            "Epoch 16/25\n",
            "60000/60000 [==============================] - 82s 1ms/step - loss: 0.1324 - val_loss: 0.1295\n",
            "Epoch 17/25\n",
            "60000/60000 [==============================] - 82s 1ms/step - loss: 0.1321 - val_loss: 0.1290\n",
            "Epoch 18/25\n",
            "60000/60000 [==============================] - 82s 1ms/step - loss: 0.1315 - val_loss: 0.1283\n",
            "Epoch 19/25\n",
            "60000/60000 [==============================] - 82s 1ms/step - loss: 0.1306 - val_loss: 0.1304\n",
            "Epoch 20/25\n",
            "60000/60000 [==============================] - 83s 1ms/step - loss: 0.1300 - val_loss: 0.1296\n",
            "Epoch 21/25\n",
            "60000/60000 [==============================] - 83s 1ms/step - loss: 0.1297 - val_loss: 0.1294\n",
            "Epoch 22/25\n",
            "60000/60000 [==============================] - 83s 1ms/step - loss: 0.1291 - val_loss: 0.1273\n",
            "Epoch 23/25\n",
            "60000/60000 [==============================] - 83s 1ms/step - loss: 0.1288 - val_loss: 0.1272\n",
            "Epoch 24/25\n",
            "60000/60000 [==============================] - 85s 1ms/step - loss: 0.1285 - val_loss: 0.1291\n",
            "Epoch 25/25\n",
            "60000/60000 [==============================] - 85s 1ms/step - loss: 0.1280 - val_loss: 0.1253\n"
          ],
          "name": "stdout"
        }
      ]
    },
    {
      "cell_type": "code",
      "metadata": {
        "id": "joHzFhF-_71u",
        "colab_type": "code",
        "colab": {
          "base_uri": "https://localhost:8080/",
          "height": 279
        },
        "outputId": "f370f1aa-bbe2-440c-8904-990055bde106"
      },
      "source": [
        "import matplotlib.pyplot as plt\n",
        "\n",
        "training_loss = history.history['loss']\n",
        "test_loss = history.history['val_loss']\n",
        "\n",
        "# Create count of the number of epochs\n",
        "epoch_count = range(1, len(training_loss) + 1)\n",
        "\n",
        "# Visualize loss history\n",
        "plt.plot(epoch_count, training_loss, 'r--')\n",
        "plt.plot(epoch_count, test_loss, 'b-')\n",
        "plt.legend(['Training Loss', 'Test Loss'])\n",
        "plt.xlabel('Epoch')\n",
        "plt.ylabel('Loss')\n",
        "plt.show();"
      ],
      "execution_count": null,
      "outputs": [
        {
          "output_type": "display_data",
          "data": {
            "image/png": "[encoded data removed]",
            "text/plain": [
              "<Figure size 432x288 with 1 Axes>"
            ]
          },
          "metadata": {
            "tags": [],
            "needs_background": "light"
          }
        }
      ]
    },
    {
      "cell_type": "markdown",
      "metadata": {
        "id": "bj8qT2AlMeR2",
        "colab_type": "text"
      },
      "source": [
        "# Classifier"
      ]
    },
    {
      "cell_type": "code",
      "metadata": {
        "id": "uGNewRkK2Ye-",
        "colab_type": "code",
        "colab": {}
      },
      "source": [
        "import tensorflow as tf\n",
        "from tensorflow import keras\n",
        "\n",
        "\n",
        "import numpy as np\n",
        "import random\n",
        "\n",
        "import matplotlib.pyplot as plt\n",
        "\n",
        "def create_model():\n",
        "  model = keras.Sequential()\n",
        "\n",
        "  # Must define the input shape in the first layer of the neural network\n",
        "  model.add(keras.layers.Conv2D(filters=32, kernel_size=3, padding='same', activation='relu', input_shape=(28,28,1))) \n",
        "  model.add(keras.layers.BatchNormalization())\n",
        "  model.add(keras.layers.MaxPooling2D(pool_size=2))\n",
        "  model.add(keras.layers.Dropout(0.3))\n",
        "\n",
        "  model.add(keras.layers.Conv2D(filters=64, kernel_size=3, padding='same', activation='relu'))\n",
        "  model.add(keras.layers.BatchNormalization())\n",
        "  model.add(keras.layers.MaxPooling2D(pool_size=2))\n",
        "  model.add(keras.layers.Dropout(0.3))\n",
        "\n",
        "  model.add(keras.layers.Flatten())\n",
        "  model.add(keras.layers.Dense(128, activation='relu'))\n",
        "  model.add(keras.layers.Dropout(0.5))\n",
        "  model.add(keras.layers.Dense(10, activation='softmax'))\n",
        "  model.compile(loss=keras.losses.categorical_crossentropy,\n",
        "             optimizer=keras.optimizers.Adam(),\n",
        "             metrics=['accuracy'])\n",
        "  return model\n",
        "\n",
        "# Take a look at the model summary\n",
        "model = create_model()"
      ],
      "execution_count": null,
      "outputs": []
    },
    {
      "cell_type": "markdown",
      "metadata": {
        "id": "RExB5p2cMkZl",
        "colab_type": "text"
      },
      "source": [
        "# Training and Testing classifier"
      ]
    },
    {
      "cell_type": "code",
      "metadata": {
        "id": "f5nZL_rH2pz6",
        "colab_type": "code",
        "colab": {
          "base_uri": "https://localhost:8080/",
          "height": 204
        },
        "outputId": "96d13126-0bd0-429e-dd2f-8a8a5452655e"
      },
      "source": [
        "model.fit(x_train, y_train, \n",
        "                    epochs=5, batch_size=64,\n",
        "                    validation_data=(x_test, y_test))"
      ],
      "execution_count": null,
      "outputs": [
        {
          "output_type": "stream",
          "text": [
            "Epoch 1/5\n",
            "938/938 [==============================] - 98s 105ms/step - loss: 0.3651 - accuracy: 0.8891 - val_loss: 0.0676 - val_accuracy: 0.9792\n",
            "Epoch 2/5\n",
            "938/938 [==============================] - 97s 104ms/step - loss: 0.1460 - accuracy: 0.9568 - val_loss: 0.0421 - val_accuracy: 0.9866\n",
            "Epoch 3/5\n",
            "938/938 [==============================] - 97s 104ms/step - loss: 0.1175 - accuracy: 0.9654 - val_loss: 0.0347 - val_accuracy: 0.9883\n",
            "Epoch 4/5\n",
            "938/938 [==============================] - 98s 105ms/step - loss: 0.1009 - accuracy: 0.9707 - val_loss: 0.0346 - val_accuracy: 0.9896\n",
            "Epoch 5/5\n",
            "938/938 [==============================] - 99s 105ms/step - loss: 0.0903 - accuracy: 0.9740 - val_loss: 0.0393 - val_accuracy: 0.9888\n"
          ],
          "name": "stdout"
        },
        {
          "output_type": "execute_result",
          "data": {
            "text/plain": [
              "<tensorflow.python.keras.callbacks.History at 0x7f084cdc3128>"
            ]
          },
          "metadata": {
            "tags": []
          },
          "execution_count": 29
        }
      ]
    },
    {
      "cell_type": "code",
      "metadata": {
        "id": "WlLchh0Nco2B",
        "colab_type": "code",
        "colab": {
          "base_uri": "https://localhost:8080/",
          "height": 51
        },
        "outputId": "5834c712-f21a-4403-f0b8-9edbf724cb3c"
      },
      "source": [
        "model.evaluate(x_test, y_test)"
      ],
      "execution_count": null,
      "outputs": [
        {
          "output_type": "stream",
          "text": [
            "313/313 [==============================] - 4s 14ms/step - loss: 0.0393 - accuracy: 0.9888\n"
          ],
          "name": "stdout"
        },
        {
          "output_type": "execute_result",
          "data": {
            "text/plain": [
              "[0.03932730853557587, 0.9887999892234802]"
            ]
          },
          "metadata": {
            "tags": []
          },
          "execution_count": 30
        }
      ]
    },
    {
      "cell_type": "markdown",
      "metadata": {
        "id": "3rwCuU7qMweM",
        "colab_type": "text"
      },
      "source": [
        "# Adversial attack generation"
      ]
    },
    {
      "cell_type": "code",
      "metadata": {
        "id": "DjlIA9-Pc7-r",
        "colab_type": "code",
        "colab": {}
      },
      "source": [
        "#Adversial attack function\n",
        "def adversarial_pattern(image, label):\n",
        "    image = tf.cast(image, tf.float32)\n",
        "    \n",
        "    with tf.GradientTape() as tape:\n",
        "        tape.watch(image)\n",
        "        prediction = model1(image)\n",
        "        loss = tf.keras.losses.MSE(label, prediction)\n",
        "    \n",
        "    gradient = tape.gradient(loss, image)\n",
        "    \n",
        "    signed_grad = tf.sign(gradient)\n",
        "    \n",
        "    return signed_grad\n"
      ],
      "execution_count": null,
      "outputs": []
    },
    {
      "cell_type": "code",
      "metadata": {
        "id": "JlUixMz3HY98",
        "colab_type": "code",
        "colab": {}
      },
      "source": [
        "#creating batch examples\n",
        "#tf.enable_eager_execution()\n",
        "\n",
        "def generate_adversarials(batch_size):\n",
        "    while True:\n",
        "        x = []\n",
        "        y = []\n",
        "        for batch in range(batch_size):\n",
        "            N = random.randint(0, 100)\n",
        "\n",
        "            label = y_train[N]\n",
        "            image = x_train[N]\n",
        "            \n",
        "            #perturbations = adversarial_pattern(image.reshape((1, img_rows, img_cols, channels)), label).numpy()\n",
        "            perturbations = adversarial_pattern(image.reshape((1, img_rows, img_cols, channels)), label)\n",
        "            perturbations = np.array(perturbations)\n",
        "            \n",
        "            \n",
        "            epsilon = 0.5\n",
        "            adversarial = image + perturbations * epsilon\n",
        "            \n",
        "            x.append(adversarial)\n",
        "            y.append(y_train[N])\n",
        "        \n",
        "        \n",
        "        x = np.asarray(x).reshape((batch_size, img_rows, img_cols, channels))\n",
        "        y = np.asarray(y)\n",
        "        \n",
        "        yield x, y"
      ],
      "execution_count": null,
      "outputs": []
    },
    {
      "cell_type": "code",
      "metadata": {
        "id": "XlOw7tdwHdHU",
        "colab_type": "code",
        "colab": {}
      },
      "source": [
        "import random\n",
        "x_adversarial_train, y_adversarial_train = next(generate_adversarials(20000))\n",
        "x_adversarial_test, y_adversarial_test = next(generate_adversarials(10000))"
      ],
      "execution_count": null,
      "outputs": []
    },
    {
      "cell_type": "code",
      "metadata": {
        "id": "i7nbNjVimp-n",
        "colab_type": "code",
        "colab": {
          "base_uri": "https://localhost:8080/",
          "height": 34
        },
        "outputId": "e1bd4b07-9019-402e-cabf-5d922631d982"
      },
      "source": [
        "x_adversarial_train.shape"
      ],
      "execution_count": null,
      "outputs": [
        {
          "output_type": "execute_result",
          "data": {
            "text/plain": [
              "(20000, 28, 28, 1)"
            ]
          },
          "metadata": {
            "tags": []
          },
          "execution_count": 45
        }
      ]
    },
    {
      "cell_type": "markdown",
      "metadata": {
        "id": "9aOE-dNlM4PP",
        "colab_type": "text"
      },
      "source": [
        "# Denoising adversial image"
      ]
    },
    {
      "cell_type": "code",
      "metadata": {
        "id": "UVq5kYStHvTE",
        "colab_type": "code",
        "colab": {}
      },
      "source": [
        "x_denoise_train = autoencoder.predict(x_adversarial_train)\n",
        "x_denoise_test = autoencoder.predict(x_adversarial_test)"
      ],
      "execution_count": null,
      "outputs": []
    },
    {
      "cell_type": "markdown",
      "metadata": {
        "id": "2ubzLG-NNHhU",
        "colab_type": "text"
      },
      "source": [
        "# Evaluation"
      ]
    },
    {
      "cell_type": "code",
      "metadata": {
        "id": "6_SWFBsGbDhy",
        "colab_type": "code",
        "colab": {
          "base_uri": "https://localhost:8080/",
          "height": 34
        },
        "outputId": "151b9ad4-db40-4526-be35-72cfaffd7815"
      },
      "source": [
        "print(\"Base accuracy on adversarial images:\", model.evaluate(x=x_adversarial_test, y=y_adversarial_test, verbose=0))"
      ],
      "execution_count": null,
      "outputs": [
        {
          "output_type": "stream",
          "text": [
            "Base accuracy on adversarial images: [5.321493625640869, 0.29440000653266907]\n"
          ],
          "name": "stdout"
        }
      ]
    },
    {
      "cell_type": "code",
      "metadata": {
        "id": "LJ_PGepqnkQ4",
        "colab_type": "code",
        "colab": {
          "base_uri": "https://localhost:8080/",
          "height": 34
        },
        "outputId": "215ae508-8d0b-4998-9865-b026421796b3"
      },
      "source": [
        "print(\"Base accuracy on adversarial images:\", model.evaluate(x=x_adversarial_train, y=y_adversarial_train, verbose=0))"
      ],
      "execution_count": null,
      "outputs": [
        {
          "output_type": "stream",
          "text": [
            "Base accuracy on adversarial images: [5.279727458953857, 0.29725000262260437]\n"
          ],
          "name": "stdout"
        }
      ]
    },
    {
      "cell_type": "code",
      "metadata": {
        "id": "XU6yJw9SbFU-",
        "colab_type": "code",
        "colab": {
          "base_uri": "https://localhost:8080/",
          "height": 34
        },
        "outputId": "348ed966-36d0-4384-d4d0-c4259d8093c5"
      },
      "source": [
        "print(\"Defended accuracy on adversarial images:\", model.evaluate(x=x_denoise_test, y=y_adversarial_test, verbose=0))"
      ],
      "execution_count": null,
      "outputs": [
        {
          "output_type": "stream",
          "text": [
            "Defended accuracy on adversarial images: [0.5176577568054199, 0.8889999985694885]\n"
          ],
          "name": "stdout"
        }
      ]
    },
    {
      "cell_type": "code",
      "metadata": {
        "id": "wYu5AlarrAFc",
        "colab_type": "code",
        "colab": {
          "base_uri": "https://localhost:8080/",
          "height": 34
        },
        "outputId": "b93a0f3c-f7d6-4455-d748-e15c47f15763"
      },
      "source": [
        "print(\"Defended accuracy on adversarial images:\", model.evaluate(x=x_denoise_train, y=y_adversarial_train, verbose=0))"
      ],
      "execution_count": null,
      "outputs": [
        {
          "output_type": "stream",
          "text": [
            "Defended accuracy on adversarial images: [0.5219660401344299, 0.8892499804496765]\n"
          ],
          "name": "stdout"
        }
      ]
    }
  ]
}